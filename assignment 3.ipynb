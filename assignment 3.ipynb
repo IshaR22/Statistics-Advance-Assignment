{
 "cells": [
  {
   "cell_type": "code",
   "execution_count": null,
   "id": "4d5f57d5-1e8e-473d-bf86-554a9a26f73c",
   "metadata": {},
   "outputs": [],
   "source": [
    "Q1. What is the Probability density function?"
   ]
  },
  {
   "cell_type": "code",
   "execution_count": null,
   "id": "82c807ff-6d4e-49d9-96c9-2b1b982d016f",
   "metadata": {},
   "outputs": [],
   "source": [
    "A function that defines the relationship between a random variable and its probability, such that we can find\n",
    "the probability of the variable using the function, is called a Probability Density Function (PDF) ."
   ]
  },
  {
   "cell_type": "code",
   "execution_count": null,
   "id": "e60958a9-9663-4995-841f-abd9dfbb446c",
   "metadata": {},
   "outputs": [],
   "source": [
    "Q2. What are the types of Probability distribution?"
   ]
  },
  {
   "cell_type": "code",
   "execution_count": null,
   "id": "acf206f2-5211-432c-b2f5-8a0cbde88398",
   "metadata": {},
   "outputs": [],
   "source": [
    "There are two types of probability distributions:\n",
    "Discrete probability distributions. \n",
    "Continuous probability distributions."
   ]
  },
  {
   "cell_type": "code",
   "execution_count": null,
   "id": "98b1bb9a-1e43-4503-943f-921ea4cc03ba",
   "metadata": {},
   "outputs": [],
   "source": [
    "Q3. Write a Python function to calculate the probability density function of a normal distribution with\n",
    "given mean and standard deviation at a given point."
   ]
  },
  {
   "cell_type": "code",
   "execution_count": null,
   "id": "d055a0cb-ea13-481b-9eee-230e444ee9a7",
   "metadata": {},
   "outputs": [],
   "source": [
    "The probability distribution function of a normal function."
   ]
  },
  {
   "cell_type": "code",
   "execution_count": 1,
   "id": "18d8327f-267a-4aa8-9d5b-d4529f90d26e",
   "metadata": {},
   "outputs": [
    {
     "name": "stdout",
     "output_type": "stream",
     "text": [
      "0.0804410163156249\n"
     ]
    }
   ],
   "source": [
    "from scipy.stats import norm \n",
    "import numpy as np \n",
    "\n",
    "data_start = -5\n",
    "data_end = 5\n",
    "data_points = 11\n",
    "data = np.linspace(data_start, data_end, data_points) \n",
    "\n",
    "mean = np.mean(data) \n",
    "std = np.std(data) \n",
    "\n",
    "probability_pdf = norm.pdf(3, loc=mean, scale=std) \n",
    "print(probability_pdf) \n"
   ]
  },
  {
   "cell_type": "code",
   "execution_count": null,
   "id": "4adbc3ed-8dd6-4dc1-ab37-1de23c7b0d4c",
   "metadata": {},
   "outputs": [],
   "source": [
    "Q4. What are the properties of Binomial distribution? Give two examples of events where binomial\n",
    "distribution can be applied."
   ]
  },
  {
   "cell_type": "code",
   "execution_count": null,
   "id": "6e39f560-b532-4766-8bb5-fc7c33843608",
   "metadata": {},
   "outputs": [],
   "source": [
    "the properties of binomial distributin are:\n",
    "1.It consists of a fixed number of trials, denoted by \"n\"\n",
    "2.Each trial must have only two possible outcomes, typically success or failure\n",
    "3.The probability of success remains constant across all trials\n",
    "4.The trials are independent of each other\n",
    "Examples\n",
    "Flipping a coin multiple times and counting the number of heads obtained\n",
    "Conducting a survey where respondents either agree or disagree with a statement"
   ]
  },
  {
   "cell_type": "code",
   "execution_count": null,
   "id": "0f28ff57-52e0-4575-9713-d229e406eea9",
   "metadata": {},
   "outputs": [],
   "source": [
    "Q5. Generate a random sample of size 1000 from a binomial distribution with probability of success 0.4\n",
    "and plot a histogram of the results using matplotlib."
   ]
  },
  {
   "cell_type": "code",
   "execution_count": null,
   "id": "04a6ebf7-1b57-49db-845d-0e3b4de6afb6",
   "metadata": {},
   "outputs": [],
   "source": [
    "import matplotlib.pyplot as plt\n",
    "import numpy as np\n",
    "sample = np.random.binomial(n=1, p=0.4, size=1000)\n",
    "plt.hist(sample, bins=2) \n",
    "plt.title('Binomial Distribution with p=0.4') \n",
    "plt.xlabel('Outcome')\n",
    "plt.ylabel('Frequency') \n",
    "plt.show()"
   ]
  },
  {
   "cell_type": "code",
   "execution_count": null,
   "id": "1f59bedd-2f88-4260-a033-1ce2b57a357c",
   "metadata": {},
   "outputs": [],
   "source": [
    "Q6. Write a Python function to calculate the cumulative distribution function of a Poisson distribution\n",
    "with given mean at a given point."
   ]
  },
  {
   "cell_type": "code",
   "execution_count": null,
   "id": "7e1c0d5e-9233-477a-bc2d-d9891a64bb72",
   "metadata": {},
   "outputs": [],
   "source": [
    "import math\n",
    "from scipy.stats import poisson\n",
    "\n",
    "def poisson_cdf(k, lambda_):\n",
    "    return poisson.cdf(k, lambda_)\n",
    "k = 5\n",
    "lambda_ = 3\n",
    "result = poisson_cdf(k, lambda_)\n",
    "print(f\"The CDF of a Poisson distribution with mean {lambda_} at point {k} is {result}\")\n"
   ]
  },
  {
   "cell_type": "code",
   "execution_count": null,
   "id": "7a13caf4-2ae7-49c8-b1fb-187d309f9ef5",
   "metadata": {},
   "outputs": [],
   "source": [
    "Q7. How Binomial distribution different from Poisson distribution?"
   ]
  },
  {
   "cell_type": "code",
   "execution_count": null,
   "id": "eded4064-1a00-4e4d-87ae-dbcca7dcd168",
   "metadata": {},
   "outputs": [],
   "source": [
    "Binomial Distribution\n",
    "1.The Binomial distribution describes the number of successes in a fixed number of independent trials of a binary\n",
    "(yes/no) experiment.\n",
    "2.It has two parameters:\n",
    "n: The number of trials.\n",
    "p: The probability of success on each trial.\n",
    "3.Mean:\n",
    "μ=np\n",
    "\n",
    "1.The Poisson distribution describes the number of events occurring in a fixed interval of time or space.\n",
    "2.It has one parameter:\n",
    "lambda: The average number of events in the given interval (mean rate)\n",
    "3.mean =lambda"
   ]
  },
  {
   "cell_type": "code",
   "execution_count": null,
   "id": "2006159e-e325-43fe-a8d8-216b32279397",
   "metadata": {},
   "outputs": [],
   "source": [
    "Q8. Generate a random sample of size 1000 from a Poisson distribution with mean 5 and calculate the\n",
    "sample mean and variance."
   ]
  },
  {
   "cell_type": "code",
   "execution_count": 2,
   "id": "7f0a8d9c-af69-492a-a2f7-9e63daa04d82",
   "metadata": {},
   "outputs": [
    {
     "name": "stdout",
     "output_type": "stream",
     "text": [
      "Sample Mean: 5.019\n",
      "Sample Variance: 5.184639\n"
     ]
    }
   ],
   "source": [
    "import numpy as np\n",
    "mean = 5\n",
    "sample = np.random.poisson(lam=mean, size=1000)\n",
    "sample_mean = np.mean(sample)\n",
    "sample_variance = np.var(sample)\n",
    "\n",
    "print(f\"Sample Mean: {sample_mean}\")\n",
    "print(f\"Sample Variance: {sample_variance}\")\n"
   ]
  },
  {
   "cell_type": "code",
   "execution_count": null,
   "id": "460e14b9-5646-455a-8f27-be85ab82794e",
   "metadata": {},
   "outputs": [],
   "source": [
    "Q9. How mean and variance are related in Binomial distribution and Poisson distribution?"
   ]
  },
  {
   "cell_type": "code",
   "execution_count": null,
   "id": "5264f536-4abe-4ca2-aaba-9c34fc1c9220",
   "metadata": {},
   "outputs": [],
   "source": [
    "Binomial Distribution:\n",
    "\n",
    "Mean: \n",
    "mean=np\n",
    "Variance: \n",
    "var=np(1−p)\n",
    "\n",
    "Poisson Distribution:\n",
    "Mean: \n",
    "mean=lambda\n",
    "Variance: \n",
    "var=λ"
   ]
  },
  {
   "cell_type": "code",
   "execution_count": null,
   "id": "635b45f0-f768-4a98-8d33-2bda04c65485",
   "metadata": {},
   "outputs": [],
   "source": [
    "Q10. In normal distribution with respect to mean position, where does the least frequent data appear?"
   ]
  },
  {
   "cell_type": "code",
   "execution_count": null,
   "id": "479bb778-626e-47a2-b112-24f9ab4d8f23",
   "metadata": {},
   "outputs": [],
   "source": [
    "the least frequent data appears in the tails of the distribution"
   ]
  }
 ],
 "metadata": {
  "kernelspec": {
   "display_name": "Python 3 (ipykernel)",
   "language": "python",
   "name": "python3"
  },
  "language_info": {
   "codemirror_mode": {
    "name": "ipython",
    "version": 3
   },
   "file_extension": ".py",
   "mimetype": "text/x-python",
   "name": "python",
   "nbconvert_exporter": "python",
   "pygments_lexer": "ipython3",
   "version": "3.10.8"
  }
 },
 "nbformat": 4,
 "nbformat_minor": 5
}
